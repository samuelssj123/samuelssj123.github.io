{
 "cells": [
  {
   "cell_type": "markdown",
   "id": "23904882-c945-418f-8773-412a2e82d147",
   "metadata": {},
   "source": [
    "# 文本预处理\n",
    "1. 将文本作为字符串加载到内存中。\n",
    "1. 将字符串拆分为词元（如单词和字符）。\n",
    "1. 建立一个词表，将拆分的词元映射到数字索引。\n",
    "1. 将文本转换为数字索引序列，方便模型操作。"
   ]
  },
  {
   "cell_type": "code",
   "execution_count": 3,
   "id": "05be0708-eb29-4b7b-8c2e-c6364fc65225",
   "metadata": {},
   "outputs": [],
   "source": [
    "import collections\n",
    "import re\n",
    "from d2l import torch as d2l"
   ]
  },
  {
   "cell_type": "code",
   "execution_count": 5,
   "id": "8389ed34-b807-4ac4-9197-73ca76207fbc",
   "metadata": {},
   "outputs": [],
   "source": [
    "# 将数据集读取到由多条文本行组成的列表中"
   ]
  },
  {
   "cell_type": "code",
   "execution_count": 7,
   "id": "7ae31dfa-da72-4e62-842c-32d7cfeac820",
   "metadata": {},
   "outputs": [
    {
     "name": "stdout",
     "output_type": "stream",
     "text": [
      "Downloading ../data\\timemachine.txt from http://d2l-data.s3-accelerate.amazonaws.com/timemachine.txt...\n",
      "['the', 'time', 'machine', 'by', 'h', 'g', 'wells']\n",
      "[]\n",
      "[]\n",
      "[]\n",
      "[]\n",
      "['i']\n",
      "[]\n",
      "[]\n",
      "['the', 'time', 'traveller', 'for', 'so', 'it', 'will', 'be', 'convenient', 'to', 'speak', 'of', 'him']\n",
      "['was', 'expounding', 'a', 'recondite', 'matter', 'to', 'us', 'his', 'grey', 'eyes', 'shone', 'and']\n",
      "['twinkled', 'and', 'his', 'usually', 'pale', 'face', 'was', 'flushed', 'and', 'animated', 'the']\n"
     ]
    }
   ],
   "source": [
    "d2l.DATA_HUB['time_machine'] = (d2l.DATA_URL + 'timemachine.txt',\n",
    "                                '090b5e7e70c295757f55df93cb0a180b9691891a')\n",
    "\n",
    "def read_time_machine():  \n",
    "    \"\"\"将时间机器数据集加载到文本行的列表中\"\"\"\n",
    "    with open(d2l.download('time_machine'), 'r') as f:\n",
    "        lines = f.readlines()\n",
    "    return [re.sub('[^A-Za-z]+', ' ', line).strip().lower() for line in lines]\n",
    "\n",
    "lines = read_time_machine()\n",
    "\n",
    "# 词元化\n",
    "def tokenize(lines, token='word'):  \n",
    "    \"\"\"将文本行拆分为单词或字符词元\"\"\"\n",
    "    if token == 'word':\n",
    "        return [line.split() for line in lines]\n",
    "    elif token == 'char':\n",
    "        return [list(line) for line in lines]\n",
    "    else:\n",
    "        print('错误：未知词元类型：' + token)\n",
    "\n",
    "tokens = tokenize(lines)\n",
    "for i in range(11):\n",
    "    print(tokens[i])"
   ]
  },
  {
   "cell_type": "code",
   "execution_count": 19,
   "id": "7df1aa02-33bb-4acb-a2b7-1ead06d189b1",
   "metadata": {},
   "outputs": [],
   "source": [
    "# 定义词汇表类，用于将单词（token）映射到索引（idx）或反向映射\n",
    "class Vocab:\n",
    "    def __init__(self, tokens=None, min_freq=0, reserved_tokens=None):\n",
    "        \"\"\"\n",
    "        初始化词汇表对象\n",
    "\n",
    "        参数说明:\n",
    "        - tokens: 输入的文本数据，可以是单词列表或嵌套列表（如分句后的单词列表），默认为空列表\n",
    "        - min_freq: 最小词频阈值，出现次数低于该值的单词不会被加入词汇表，默认保留所有词\n",
    "        - reserved_tokens: 保留的标记列表（如'<unk>', '<pad>'等），这些标记会强制加入词汇表，默认为空列表\n",
    "\n",
    "        功能:\n",
    "        1. 统计所有token的频率\n",
    "        2. 按词频排序并构建索引与token的映射关系\n",
    "        3. 过滤低频词，保留高频词和保留标记\n",
    "        \"\"\"\n",
    "        # 处理参数默认值\n",
    "        if tokens is None:\n",
    "            tokens = []  # 确保tokens不为None\n",
    "        if reserved_tokens is None:\n",
    "            reserved_tokens = []  # 确保保留标记列表不为None\n",
    "\n",
    "        # 统计词频（调用count_corpus函数）\n",
    "        counter = count_corpus(tokens)\n",
    "        \n",
    "        # 按词频降序排序，得到元组列表（token, freq）\n",
    "        self._token_freqs = sorted(counter.items(), key=lambda x: x[1], reverse=True)\n",
    "        \n",
    "        # 初始化索引到token的映射列表：\n",
    "        # 1. 第0位固定为未知词标记'<unk>'\n",
    "        # 2. 随后添加用户定义的保留标记\n",
    "        self.idx_to_token = ['<unk>'] + reserved_tokens\n",
    "        \n",
    "        # 初始化token到索引的字典映射（反向映射）\n",
    "        # 使用推导式生成字典，初始包含'<unk>'和保留标记的映射\n",
    "        self.token_to_idx = {token: idx for idx, token in enumerate(self.idx_to_token)}\n",
    "        \n",
    "        # 遍历排序后的词频列表，构建完整词汇表\n",
    "        for token, freq in self._token_freqs:\n",
    "            if freq < min_freq:\n",
    "                break  # 遇到低频词立即停止（因已排序，后续词频必定更低）\n",
    "            if token not in self.token_to_idx:  # 防止重复添加保留标记\n",
    "                self.idx_to_token.append(token)  # 添加token到索引映射列表\n",
    "                self.token_to_idx[token] = len(self.idx_to_token) - 1  # 更新反向映射字典\n",
    "\n",
    "    def __len__(self):\n",
    "        \"\"\"返回词汇表的总长度（含保留标记）\"\"\"\n",
    "        return len(self.idx_to_token)\n",
    "\n",
    "    def __getitem__(self, tokens):\n",
    "        \"\"\"\n",
    "        将单词（token）转换为索引（idx）\n",
    "        \n",
    "        参数说明:\n",
    "        - tokens: 单个单词或单词列表/元组\n",
    "        \n",
    "        返回:\n",
    "        - 单个索引或索引列表\n",
    "        \"\"\"\n",
    "        # 处理单个token的情况\n",
    "        if not isinstance(tokens, (list, tuple)):\n",
    "            # 使用get方法获取索引，若不存在则返回unk的索引（0）\n",
    "            return self.token_to_idx.get(tokens, self.unk())\n",
    "        # 递归处理列表/元组类型的多个token\n",
    "        return [self.__getitem__(token) for token in tokens]\n",
    "\n",
    "    def to_tokens(self, indices):\n",
    "        \"\"\"\n",
    "        将索引（indices）转换回单词（token）\n",
    "        \n",
    "        参数说明:\n",
    "        - indices: 单个索引或索引列表/元组\n",
    "        \n",
    "        返回:\n",
    "        - 单个token或token列表\n",
    "        \"\"\"\n",
    "        # 处理单个索引的情况\n",
    "        if not isinstance(indices, (list, tuple)):\n",
    "            return self.idx_to_token[indices]\n",
    "        # 处理多个索引的情况\n",
    "        return [self.idx_to_token[index] for index in indices]\n",
    "\n",
    "    def unk(self):\n",
    "        \"\"\"返回未知词（<unk>）的索引（固定为0）\"\"\"\n",
    "        return 0\n",
    "\n",
    "def count_corpus(tokens):\n",
    "    \"\"\"\n",
    "    统计词频的辅助函数\n",
    "    \n",
    "    参数说明:\n",
    "    - tokens: 输入数据，可以是1D列表（单个句子）或2D列表（多个句子组成的语料库）\n",
    "    \n",
    "    返回:\n",
    "    - Counter对象，包含每个token的频率统计\n",
    "    \n",
    "    实现原理:\n",
    "    1. 如果检测到输入是嵌套列表（如[[token1, token2], [token3]]），则展平为一维列表\n",
    "    2. 使用collections.Counter进行高效词频统计\n",
    "    \"\"\"\n",
    "    # 展平嵌套列表：如果tokens非空且第一个元素是列表，则展开所有子列表\n",
    "    if len(tokens) == 0 or isinstance(tokens[0], list):\n",
    "        tokens = [token for line in tokens for token in line]\n",
    "    # 返回Counter对象（自动统计词频）\n",
    "    return collections.Counter(tokens)"
   ]
  },
  {
   "cell_type": "code",
   "execution_count": 13,
   "id": "3e7e072f-7ea5-4b90-b879-3b65d4fe9d82",
   "metadata": {},
   "outputs": [
    {
     "name": "stdout",
     "output_type": "stream",
     "text": [
      "[('<unk>', 0), ('the', 1), ('i', 2), ('and', 3), ('of', 4), ('a', 5), ('to', 6), ('was', 7), ('in', 8), ('that', 9)]\n"
     ]
    }
   ],
   "source": [
    "vocab = Vocab(tokens)\n",
    "print(list(vocab.token_to_idx.items())[:10])"
   ]
  },
  {
   "cell_type": "code",
   "execution_count": 15,
   "id": "854b052a-d107-4118-a8d9-2084c3b57717",
   "metadata": {},
   "outputs": [
    {
     "name": "stdout",
     "output_type": "stream",
     "text": [
      "文本: ['the', 'time', 'machine', 'by', 'h', 'g', 'wells']\n",
      "索引: [1, 19, 50, 40, 2183, 2184, 400]\n",
      "文本: ['twinkled', 'and', 'his', 'usually', 'pale', 'face', 'was', 'flushed', 'and', 'animated', 'the']\n",
      "索引: [2186, 3, 25, 1044, 362, 113, 7, 1421, 3, 1045, 1]\n"
     ]
    }
   ],
   "source": [
    "for i in [0, 10]:\n",
    "    print('文本:', tokens[i])\n",
    "    print('索引:', vocab[tokens[i]])"
   ]
  },
  {
   "cell_type": "code",
   "execution_count": 17,
   "id": "68b7b59e-b67c-4585-8df0-a63f90bf9d17",
   "metadata": {},
   "outputs": [
    {
     "data": {
      "text/plain": [
       "(170580, 28)"
      ]
     },
     "execution_count": 17,
     "metadata": {},
     "output_type": "execute_result"
    }
   ],
   "source": [
    "def load_corpus_time_machine(max_tokens=-1): \n",
    "    \"\"\"返回时光机器数据集的词元索引列表和词表\"\"\"\n",
    "    lines = read_time_machine()\n",
    "    tokens = tokenize(lines, 'char')\n",
    "    vocab = Vocab(tokens)\n",
    "    # 因为时光机器数据集中的每个文本行不一定是一个句子或一个段落，\n",
    "    # 所以将所有文本行展平到一个列表中\n",
    "    corpus = [vocab[token] for line in tokens for token in line]\n",
    "    if max_tokens > 0:\n",
    "        corpus = corpus[:max_tokens]\n",
    "    return corpus, vocab\n",
    "\n",
    "corpus, vocab = load_corpus_time_machine()\n",
    "len(corpus), len(vocab)"
   ]
  },
  {
   "cell_type": "code",
   "execution_count": null,
   "id": "0a97ab1b-d558-40b2-81c3-9232504ff997",
   "metadata": {},
   "outputs": [],
   "source": []
  }
 ],
 "metadata": {
  "kernelspec": {
   "display_name": "Python 3 (ipykernel)",
   "language": "python",
   "name": "python3"
  },
  "language_info": {
   "codemirror_mode": {
    "name": "ipython",
    "version": 3
   },
   "file_extension": ".py",
   "mimetype": "text/x-python",
   "name": "python",
   "nbconvert_exporter": "python",
   "pygments_lexer": "ipython3",
   "version": "3.11.11"
  }
 },
 "nbformat": 4,
 "nbformat_minor": 5
}
