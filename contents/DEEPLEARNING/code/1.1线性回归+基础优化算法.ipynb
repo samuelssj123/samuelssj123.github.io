{
 "cells": [
  {
   "cell_type": "markdown",
   "id": "bf193a3a-5bc5-4f7a-a47f-bdb72e0c331a",
   "metadata": {},
   "source": [
    "# 线性回归 + 基础优化算法"
   ]
  },
  {
   "cell_type": "code",
   "execution_count": 1,
   "id": "070a0bb0-ccbc-454a-b355-2cd558f9617f",
   "metadata": {},
   "outputs": [],
   "source": [
    "%matplotlib inline\n",
    "import random\n",
    "import torch\n",
    "from d2l import torch as d2l"
   ]
  },
  {
   "cell_type": "markdown",
   "id": "e1d23f06-9c23-4f62-b5cb-287c36e80cbd",
   "metadata": {},
   "source": [
    "### 生成数据集\n",
    "我们使用线性模型参数$\\mathbf{w} = [2, -3.4]^\\top$、$b = 4.2$\n",
    "和噪声项$\\epsilon$生成数据集及其标签：\n",
    "\n",
    "$$\\mathbf{y}= \\mathbf{X} \\mathbf{w} + b + \\mathbf\\epsilon.$$"
   ]
  },
  {
   "cell_type": "code",
   "execution_count": 9,
   "id": "98a87b18-20c2-4062-9640-61e65f75b1f2",
   "metadata": {},
   "outputs": [],
   "source": [
    "def synthetic_data(w, b, num_examples):\n",
    "    X = torch.normal(0, 1, (num_examples, len(w)))\n",
    "    y = torch.matmul(X, w) + b\n",
    "    y += torch.normal(0, 0.01, y.shape) #该张量的形状信息\n",
    "    return X, y.reshape((-1, 1)) #使用 reshape((-1, 1)) 将 y 转换为列向量的形式\n",
    "\n",
    "true_w = torch.tensor([2, -3.4]) # true_w 是一个包含两个元素的张量，分别对应两个特征的权重\n",
    "true_b = 4.2\n",
    "features, labels = synthetic_data(true_w, true_b, 10000)"
   ]
  },
  {
   "cell_type": "code",
   "execution_count": 21,
   "id": "4bbdf67e-f35e-40ec-8dd0-b5f306e198a9",
   "metadata": {},
   "outputs": [
    {
     "ename": "IndentationError",
     "evalue": "unexpected indent (1665392854.py, line 4)",
     "output_type": "error",
     "traceback": [
      "\u001b[1;36m  Cell \u001b[1;32mIn[21], line 4\u001b[1;36m\u001b[0m\n\u001b[1;33m    labels.detach().numpy(), 1)\u001b[0m\n\u001b[1;37m    ^\u001b[0m\n\u001b[1;31mIndentationError\u001b[0m\u001b[1;31m:\u001b[0m unexpected indent\n"
     ]
    }
   ],
   "source": [
    "print('features:', features[0], '\\nlabel:', labels[0])\n",
    "d2l.set_figsize()\n",
    "d2l.plt.scatter(features[:,(1)]).detach().numpy(),\n",
    "                labels.detach().numpy(), 1);"
   ]
  },
  {
   "cell_type": "code",
   "execution_count": null,
   "id": "c87d4ac0-5a68-4712-9b91-f45ff16f15e0",
   "metadata": {},
   "outputs": [],
   "source": []
  }
 ],
 "metadata": {
  "kernelspec": {
   "display_name": "Python 3 (ipykernel)",
   "language": "python",
   "name": "python3"
  },
  "language_info": {
   "codemirror_mode": {
    "name": "ipython",
    "version": 3
   },
   "file_extension": ".py",
   "mimetype": "text/x-python",
   "name": "python",
   "nbconvert_exporter": "python",
   "pygments_lexer": "ipython3",
   "version": "3.11.11"
  }
 },
 "nbformat": 4,
 "nbformat_minor": 5
}
