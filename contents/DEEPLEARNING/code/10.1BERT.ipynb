{
 "cells": [
  {
   "cell_type": "markdown",
   "id": "8d2454d0-a0d4-43b2-8dcb-f33597ba087b",
   "metadata": {},
   "source": [
    "# BERT"
   ]
  },
  {
   "cell_type": "code",
   "execution_count": 2,
   "id": "6d6ddc88-2f09-425b-90c1-36b247192575",
   "metadata": {},
   "outputs": [],
   "source": [
    "import torch\n",
    "from torch import nn\n",
    "from d2l import torch as d2l"
   ]
  },
  {
   "cell_type": "code",
   "execution_count": 60,
   "id": "a0e6777a-8f33-4054-8989-e19b49ce37b1",
   "metadata": {},
   "outputs": [],
   "source": [
    "def get_tokens_and_segments(tokens_a, tokens_b=None):\n",
    "    \"\"\"获取输入序列的词元及其片段索引\"\"\"\n",
    "    tokens = ['<cls>'] + tokens_a + ['<sep>']\n",
    "    # 0和1分别标记片段A和B\n",
    "    segments = [0] * (len(tokens_a) + 2)\n",
    "    if tokens_b is not None:\n",
    "        tokens += tokens_b + ['<sep>']\n",
    "        segments += [1] * (len(tokens_b) + 1)\n",
    "    return tokens, segments"
   ]
  },
  {
   "cell_type": "code",
   "execution_count": 56,
   "id": "682f0674-82a7-4d0a-b817-f1ed3845f3f5",
   "metadata": {},
   "outputs": [],
   "source": [
    "class PositionWiseFFN(nn.Module):\n",
    "    def __init__(self, ffn_num_input, ffn_num_hiddens, ffn_num_outputs,\n",
    "                 **kwargs):\n",
    "        super(PositionWiseFFN, self).__init__(**kwargs)\n",
    "        self.dense1 = nn.Linear(ffn_num_input, ffn_num_hiddens)\n",
    "        self.relu = nn.ReLU()\n",
    "        self.dense2 = nn.Linear(ffn_num_hiddens, ffn_num_outputs)\n",
    "\n",
    "    def forward(self, X):\n",
    "        return self.dense2(self.relu(self.dense1(X)))"
   ]
  },
  {
   "cell_type": "code",
   "execution_count": 58,
   "id": "6c6caa89-bafc-4901-a121-6357d801fcec",
   "metadata": {},
   "outputs": [],
   "source": [
    "class AddNorm(nn.Module):\n",
    "    def __init__(self, normalized_shape, dropout, **kwargs):\n",
    "        super(AddNorm, self).__init__(**kwargs)\n",
    "        self.dropout = nn.Dropout(dropout)\n",
    "        self.ln = nn.LayerNorm(normalized_shape)\n",
    "\n",
    "    def forward(self, X, Y):\n",
    "        return self.ln(self.dropout(Y) + X)"
   ]
  },
  {
   "cell_type": "code",
   "execution_count": 54,
   "id": "6f0111b5-0348-46d8-b00c-854e225de54e",
   "metadata": {},
   "outputs": [],
   "source": [
    "class EncoderBlock(nn.Module):\n",
    "    def __init__(self, key_size, query_size, value_size, num_hiddens,\n",
    "             norm_shape, ffn_num_input, ffn_num_hiddens, num_heads,\n",
    "             dropout, use_bias=False, **kwargs):\n",
    "        super(EncoderBlock, self).__init__(**kwargs)\n",
    "    # 假设 MultiHeadAttention 只需要 num_hiddens, num_heads, dropout, use_bias\n",
    "        self.attention = d2l.MultiHeadAttention(\n",
    "            num_hiddens=num_hiddens,\n",
    "            num_heads=num_heads,\n",
    "            dropout=dropout,\n",
    "            use_bias=use_bias\n",
    "        )\n",
    "        self.addnorm1 = AddNorm(norm_shape, dropout)\n",
    "        self.ffn = PositionWiseFFN(ffn_num_input, ffn_num_hiddens, num_hiddens)\n",
    "        self.addnorm2 = AddNorm(norm_shape, dropout)\n",
    "\n",
    "    def forward(self, X, valid_lens):\n",
    "        Y = self.addnorm1(X, self.attention(X, X, X, valid_lens))\n",
    "        return self.addnorm2(Y, self.ffn(Y))"
   ]
  },
  {
   "cell_type": "code",
   "execution_count": 52,
   "id": "571ac9f2-ed75-46c3-a2fa-e52afc4d35c8",
   "metadata": {},
   "outputs": [],
   "source": [
    "class BERTEncoder(nn.Module):\n",
    "    \"\"\"BERT编码器\"\"\"\n",
    "    def __init__(self, vocab_size, num_hiddens, norm_shape, ffn_num_input,\n",
    "                 ffn_num_hiddens, num_heads, num_layers, dropout,\n",
    "                 max_len=1000, key_size=768, query_size=768, value_size=768,\n",
    "                 **kwargs):\n",
    "        super(BERTEncoder, self).__init__(**kwargs)\n",
    "        self.token_embedding = nn.Embedding(vocab_size, num_hiddens)\n",
    "        self.segment_embedding = nn.Embedding(2, num_hiddens)\n",
    "        self.blks = nn.Sequential()\n",
    "        for i in range(num_layers):\n",
    "            self.blks.add_module(f\"{i}\", EncoderBlock(\n",
    "                key_size, query_size, value_size, num_hiddens, norm_shape,\n",
    "                ffn_num_input, ffn_num_hiddens, num_heads, dropout, True))\n",
    "        # 在BERT中，位置嵌入是可学习的，因此我们创建一个足够长的位置嵌入参数\n",
    "        self.pos_embedding = nn.Parameter(torch.randn(1, max_len,\n",
    "                                                      num_hiddens))\n",
    "\n",
    "    def forward(self, tokens, segments, valid_lens):\n",
    "        # 在以下代码段中，X的形状保持不变：（批量大小，最大序列长度，num_hiddens）\n",
    "        X = self.token_embedding(tokens) + self.segment_embedding(segments)\n",
    "        X = X + self.pos_embedding.data[:, :X.shape[1], :]\n",
    "        for blk in self.blks:\n",
    "            X = blk(X, valid_lens)\n",
    "        return X"
   ]
  },
  {
   "cell_type": "code",
   "execution_count": 26,
   "id": "eaebb91f-c5cc-448b-bc4c-49d2bc4e8cfe",
   "metadata": {},
   "outputs": [],
   "source": [
    "vocab_size, num_hiddens, ffn_num_hiddens, num_heads = 10000, 768, 1024, 4\n",
    "norm_shape, ffn_num_input, num_layers, dropout = [768], 768, 2, 0.2\n",
    "encoder = BERTEncoder(vocab_size, num_hiddens, norm_shape, ffn_num_input,\n",
    "                      ffn_num_hiddens, num_heads, num_layers, dropout)"
   ]
  },
  {
   "cell_type": "code",
   "execution_count": 28,
   "id": "2707b9fc-3902-4da0-b77c-3122b96709bf",
   "metadata": {},
   "outputs": [
    {
     "data": {
      "text/plain": [
       "torch.Size([2, 8, 768])"
      ]
     },
     "execution_count": 28,
     "metadata": {},
     "output_type": "execute_result"
    }
   ],
   "source": [
    "tokens = torch.randint(0, vocab_size, (2, 8))\n",
    "segments = torch.tensor([[0, 0, 0, 0, 1, 1, 1, 1], [0, 0, 0, 1, 1, 1, 1, 1]])\n",
    "encoded_X = encoder(tokens, segments, None)\n",
    "encoded_X.shape"
   ]
  },
  {
   "cell_type": "code",
   "execution_count": 64,
   "id": "fc7def73-5a8e-463b-90db-eea78a1ae783",
   "metadata": {},
   "outputs": [],
   "source": [
    "class MaskLM(nn.Module):\n",
    "    \"\"\"BERT的掩蔽语言模型任务\"\"\"\n",
    "    def __init__(self, vocab_size, num_hiddens, num_inputs=768, **kwargs):\n",
    "        super(MaskLM, self).__init__(**kwargs)\n",
    "        self.mlp = nn.Sequential(nn.Linear(num_inputs, num_hiddens),\n",
    "                                 nn.ReLU(),\n",
    "                                 nn.LayerNorm(num_hiddens),\n",
    "                                 nn.Linear(num_hiddens, vocab_size))\n",
    "\n",
    "    def forward(self, X, pred_positions):\n",
    "        num_pred_positions = pred_positions.shape[1]\n",
    "        pred_positions = pred_positions.reshape(-1)\n",
    "        batch_size = X.shape[0]\n",
    "        batch_idx = torch.arange(0, batch_size)\n",
    "        # 假设batch_size=2，num_pred_positions=3\n",
    "        # 那么batch_idx是np.array（[0,0,0,1,1,1]）\n",
    "        batch_idx = torch.repeat_interleave(batch_idx, num_pred_positions)\n",
    "        masked_X = X[batch_idx, pred_positions]\n",
    "        masked_X = masked_X.reshape((batch_size, num_pred_positions, -1))\n",
    "        mlm_Y_hat = self.mlp(masked_X)\n",
    "        return mlm_Y_hat"
   ]
  },
  {
   "cell_type": "code",
   "execution_count": 32,
   "id": "b69c4ca6-0ce2-4808-bf9e-582682875fc4",
   "metadata": {},
   "outputs": [
    {
     "data": {
      "text/plain": [
       "torch.Size([2, 3, 10000])"
      ]
     },
     "execution_count": 32,
     "metadata": {},
     "output_type": "execute_result"
    }
   ],
   "source": [
    "mlm = MaskLM(vocab_size, num_hiddens)\n",
    "mlm_positions = torch.tensor([[1, 5, 2], [6, 1, 5]])\n",
    "mlm_Y_hat = mlm(encoded_X, mlm_positions)\n",
    "mlm_Y_hat.shape"
   ]
  },
  {
   "cell_type": "code",
   "execution_count": 34,
   "id": "54d99e85-93f4-4541-bec6-6342dc6af790",
   "metadata": {},
   "outputs": [
    {
     "data": {
      "text/plain": [
       "torch.Size([6])"
      ]
     },
     "execution_count": 34,
     "metadata": {},
     "output_type": "execute_result"
    }
   ],
   "source": [
    "mlm_Y = torch.tensor([[7, 8, 9], [10, 20, 30]])\n",
    "loss = nn.CrossEntropyLoss(reduction='none')\n",
    "mlm_l = loss(mlm_Y_hat.reshape((-1, vocab_size)), mlm_Y.reshape(-1))\n",
    "mlm_l.shape"
   ]
  },
  {
   "cell_type": "code",
   "execution_count": 66,
   "id": "b83a8a21-cfd6-4da5-8400-2e0fe9313928",
   "metadata": {},
   "outputs": [],
   "source": [
    "class NextSentencePred(nn.Module):\n",
    "    \"\"\"BERT的下一句预测任务\"\"\"\n",
    "    def __init__(self, num_inputs, **kwargs):\n",
    "        super(NextSentencePred, self).__init__(**kwargs)\n",
    "        self.output = nn.Linear(num_inputs, 2)\n",
    "\n",
    "    def forward(self, X):\n",
    "        # X的形状：(batchsize,num_hiddens)\n",
    "        return self.output(X)"
   ]
  },
  {
   "cell_type": "code",
   "execution_count": 38,
   "id": "5feac0f0-5e1f-45e4-a213-3b0513820b14",
   "metadata": {},
   "outputs": [
    {
     "data": {
      "text/plain": [
       "torch.Size([2, 2])"
      ]
     },
     "execution_count": 38,
     "metadata": {},
     "output_type": "execute_result"
    }
   ],
   "source": [
    "encoded_X = torch.flatten(encoded_X, start_dim=1)\n",
    "# NSP的输入形状:(batchsize，num_hiddens)\n",
    "nsp = NextSentencePred(encoded_X.shape[-1])\n",
    "nsp_Y_hat = nsp(encoded_X)\n",
    "nsp_Y_hat.shape"
   ]
  },
  {
   "cell_type": "code",
   "execution_count": 40,
   "id": "ea9055ce-bdbe-4ead-8160-f8a4cdc3ed6b",
   "metadata": {},
   "outputs": [
    {
     "data": {
      "text/plain": [
       "torch.Size([2])"
      ]
     },
     "execution_count": 40,
     "metadata": {},
     "output_type": "execute_result"
    }
   ],
   "source": [
    "nsp_y = torch.tensor([0, 1])\n",
    "nsp_l = loss(nsp_Y_hat, nsp_y)\n",
    "nsp_l.shape"
   ]
  },
  {
   "cell_type": "code",
   "execution_count": 42,
   "id": "8e6232a2-1f9b-4868-9d35-9ee28886a939",
   "metadata": {},
   "outputs": [],
   "source": [
    "class BERTModel(nn.Module):\n",
    "    \"\"\"BERT模型\"\"\"\n",
    "    def __init__(self, vocab_size, num_hiddens, norm_shape, ffn_num_input,\n",
    "                 ffn_num_hiddens, num_heads, num_layers, dropout,\n",
    "                 max_len=1000, key_size=768, query_size=768, value_size=768,\n",
    "                 hid_in_features=768, mlm_in_features=768,\n",
    "                 nsp_in_features=768):\n",
    "        super(BERTModel, self).__init__()\n",
    "        self.encoder = BERTEncoder(vocab_size, num_hiddens, norm_shape,\n",
    "                    ffn_num_input, ffn_num_hiddens, num_heads, num_layers,\n",
    "                    dropout, max_len=max_len, key_size=key_size,\n",
    "                    query_size=query_size, value_size=value_size)\n",
    "        self.hidden = nn.Sequential(nn.Linear(hid_in_features, num_hiddens),\n",
    "                                    nn.Tanh())\n",
    "        self.mlm = MaskLM(vocab_size, num_hiddens, mlm_in_features)\n",
    "        self.nsp = NextSentencePred(nsp_in_features)\n",
    "\n",
    "    def forward(self, tokens, segments, valid_lens=None,\n",
    "                pred_positions=None):\n",
    "        encoded_X = self.encoder(tokens, segments, valid_lens)\n",
    "        if pred_positions is not None:\n",
    "            mlm_Y_hat = self.mlm(encoded_X, pred_positions)\n",
    "        else:\n",
    "            mlm_Y_hat = None\n",
    "        # 用于下一句预测的多层感知机分类器的隐藏层，0是“<cls>”标记的索引\n",
    "        nsp_Y_hat = self.nsp(self.hidden(encoded_X[:, 0, :]))\n",
    "        return encoded_X, mlm_Y_hat, nsp_Y_hat"
   ]
  },
  {
   "cell_type": "markdown",
   "id": "f3b83b33-62f2-4508-bda6-b23c588032e8",
   "metadata": {},
   "source": [
    "# 用于预训练BERT的数据集"
   ]
  },
  {
   "cell_type": "code",
   "execution_count": 43,
   "id": "70311b82-c310-4a79-990f-04f8b345dac4",
   "metadata": {},
   "outputs": [],
   "source": [
    "import os\n",
    "import random\n",
    "import torch\n",
    "from d2l import torch as d2l"
   ]
  },
  {
   "cell_type": "code",
   "execution_count": 25,
   "id": "dc52a581-a779-428a-843b-5f05ef95a2c0",
   "metadata": {},
   "outputs": [],
   "source": [
    "d2l.DATA_HUB['wikitext-2'] = (\n",
    "    'https://s3.amazonaws.com/research.metamind.io/wikitext/'\n",
    "    'wikitext-2-v1.zip', '3c914d17d80b1459be871a5039ac23e752a53cbe')\n",
    "\n",
    "def _read_wiki(data_dir):\n",
    "    file_name = os.path.join(data_dir, 'wiki.train.tokens')\n",
    "    with open(file_name, 'r', encoding='utf-8') as f:  # 指定编码格式为 utf-8\n",
    "        lines = f.readlines()\n",
    "    # 大写字母转换为小写字母\n",
    "    paragraphs = [line.strip().lower().split(' . ')\n",
    "                  for line in lines if len(line.split(' . ')) >= 2]\n",
    "    return paragraphs"
   ]
  },
  {
   "cell_type": "code",
   "execution_count": 27,
   "id": "e87e9541-41ca-4eb7-83a3-6acf860b08ec",
   "metadata": {},
   "outputs": [],
   "source": [
    "def _get_next_sentence(sentence, next_sentence, paragraphs):\n",
    "    if random.random() < 0.5:\n",
    "        is_next = True\n",
    "    else:\n",
    "        # paragraphs是三重列表的嵌套\n",
    "        next_sentence = random.choice(random.choice(paragraphs))\n",
    "        is_next = False\n",
    "    return sentence, next_sentence, is_next"
   ]
  },
  {
   "cell_type": "code",
   "execution_count": 29,
   "id": "ff17be39-a81f-4d45-964d-9cebbca10aef",
   "metadata": {},
   "outputs": [],
   "source": [
    "def _get_nsp_data_from_paragraph(paragraph, paragraphs, vocab, max_len):\n",
    "    \"\"\"\n",
    "    从段落中生成用于BERT下一句预测（NSP）任务的训练数据。\n",
    "    \n",
    "    参数:\n",
    "    paragraph (list): 当前段落的句子列表，每个元素是一个句子的词元列表。\n",
    "    paragraphs (list): 所有段落的列表，用于生成负样本（随机替换句子对）。\n",
    "    vocab (Vocab): 词汇表，用于将词元转换为索引。\n",
    "    max_len (int): 输入序列的最大长度，超过此长度的句子对将被忽略。\n",
    "    \n",
    "    返回:\n",
    "    list: 包含三元组的列表，每个三元组为 (tokens, segments, is_next)，分别表示词元序列、片段索引和是否为下一句的标签。\n",
    "    \"\"\"\n",
    "    # 初始化一个空列表，用于存储生成的NSP数据\n",
    "    nsp_data_from_paragraph = []\n",
    "    \n",
    "    # 遍历当前段落中的每个句子，除了最后一个（因为需要与下一个句子配对）\n",
    "    for i in range(len(paragraph) - 1):\n",
    "        # 调用_get_next_sentence函数，生成当前句子对的词元和是否为下一句的标签\n",
    "        # tokens_a: 第一个句子的词元列表\n",
    "        # tokens_b: 第二个句子的词元列表（可能是下一个句子或随机选择的句子）\n",
    "        # is_next: 标签，1表示tokens_b是tokens_a的下一句，0表示随机替换的句子\n",
    "        tokens_a, tokens_b, is_next = _get_next_sentence(\n",
    "            paragraph[i], paragraph[i + 1], paragraphs)\n",
    "        \n",
    "        # 检查合并后的句子长度是否超过max_len\n",
    "        # 加3是因为需要添加'<cls>'（1个）和两个'<sep>'（2个）词元\n",
    "        if len(tokens_a) + len(tokens_b) + 3 > max_len:\n",
    "            # 如果超过最大长度，跳过当前句子对\n",
    "            continue\n",
    "        \n",
    "        # 调用get_tokens_and_segments函数，处理词元和生成片段索引\n",
    "        # tokens: 合并后的词元序列，格式为 ['<cls>'] + tokens_a + ['<sep>'] + tokens_b + ['<sep>']\n",
    "        # segments: 片段索引列表，0表示属于第一个句子（tokens_a），1表示属于第二个句子（tokens_b）\n",
    "        tokens, segments = d2l.get_tokens_and_segments(tokens_a, tokens_b)\n",
    "        \n",
    "        # 将处理后的词元、片段索引和标签添加到结果列表中\n",
    "        nsp_data_from_paragraph.append((tokens, segments, is_next))\n",
    "    \n",
    "    # 返回生成的NSP数据\n",
    "    return nsp_data_from_paragraph"
   ]
  },
  {
   "cell_type": "code",
   "execution_count": 31,
   "id": "03eb19cb-42a1-4fb7-b50d-d0678e757dac",
   "metadata": {},
   "outputs": [],
   "source": [
    "import random\n",
    "\n",
    "def _replace_mlm_tokens(tokens, candidate_pred_positions, num_mlm_preds,\n",
    "                        vocab):\n",
    "    \"\"\"\n",
    "    为BERT的遮蔽语言模型（MLM）任务生成遮蔽后的输入词元和对应的标签。\n",
    "    \n",
    "    参数:\n",
    "    tokens (list): 原始词元列表，例如 [\"hello\", \"world\", \".\"]。\n",
    "    candidate_pred_positions (list): 候选的遮蔽位置列表，通常为非特殊词元（如<cls>、<sep>）的索引。\n",
    "    num_mlm_preds (int): 需要遮蔽并预测的词元数量。\n",
    "    vocab (Vocab): 词汇表，用于生成随机替换的词元。\n",
    "    \n",
    "    返回:\n",
    "    tuple: 包含两个元素：\n",
    "        - mlm_input_tokens (list): 遮蔽或替换后的词元列表，用于模型输入。\n",
    "        - pred_positions_and_labels (list): 包含元组的列表，每个元组为 (遮蔽位置, 原始词元)，作为模型的训练标签。\n",
    "    \"\"\"\n",
    "    # 复制原始词元列表，避免修改原始数据\n",
    "    mlm_input_tokens = [token for token in tokens]\n",
    "    # 初始化一个列表，用于存储被遮蔽的位置及其对应的原始词元（标签）\n",
    "    pred_positions_and_labels = []\n",
    "    \n",
    "    # 打乱候选遮蔽位置的顺序，确保随机性\n",
    "    random.shuffle(candidate_pred_positions)\n",
    "    \n",
    "    # 遍历每个候选遮蔽位置\n",
    "    for mlm_pred_position in candidate_pred_positions:\n",
    "        # 如果已经达到需要预测的词元数量，提前终止循环\n",
    "        if len(pred_positions_and_labels) >= num_mlm_preds:\n",
    "            break\n",
    "        \n",
    "        masked_token = None\n",
    "        # 按照BERT的MLM策略，以不同概率处理当前位置的词元：\n",
    "        # 1. 80%的概率：将词元替换为\"<mask>\"\n",
    "        if random.random() < 0.8:\n",
    "            masked_token = '<mask>'\n",
    "        else:\n",
    "            # 2. 10%的概率：保持词元不变\n",
    "            if random.random() < 0.5:\n",
    "                masked_token = tokens[mlm_pred_position]\n",
    "            # 3. 10%的概率：用词汇表中的随机词元替换\n",
    "            else:\n",
    "                masked_token = random.choice(vocab.idx_to_token)\n",
    "        \n",
    "        # 更新遮蔽后的词元列表\n",
    "        mlm_input_tokens[mlm_pred_position] = masked_token\n",
    "        # 记录遮蔽位置和对应的原始词元（标签）\n",
    "        pred_positions_and_labels.append(\n",
    "            (mlm_pred_position, tokens[mlm_pred_position]))\n",
    "    \n",
    "    # 返回遮蔽后的输入词元和标签信息\n",
    "    return mlm_input_tokens, pred_positions_and_labels"
   ]
  },
  {
   "cell_type": "code",
   "execution_count": 33,
   "id": "ea15db2b-d606-4948-83b1-85a58c0863e4",
   "metadata": {},
   "outputs": [],
   "source": [
    "def _get_mlm_data_from_tokens(tokens, vocab):\n",
    "    \"\"\"\n",
    "    从词元列表中生成BERT掩蔽语言模型（MLM）任务的训练数据。\n",
    "    \n",
    "    参数:\n",
    "    tokens (list): 原始词元列表，例如 [\"hello\", \"world\", \".\"]。\n",
    "    vocab (Vocab): 词汇表，用于将词元转换为索引。\n",
    "    \n",
    "    返回:\n",
    "    tuple: 包含三个元素：\n",
    "        - mlm_input_ids (list): 遮蔽或替换后的词元索引列表，用于模型输入。\n",
    "        - pred_positions (list): 被遮蔽词元的位置列表。\n",
    "        - mlm_labels (list): 被遮蔽词元的原始索引标签列表。\n",
    "    \"\"\"\n",
    "    # 初始化一个空列表，用于存储可被遮蔽的候选位置\n",
    "    candidate_pred_positions = []\n",
    "    # 遍历每个词元及其索引，筛选出非特殊词元的位置\n",
    "    for i, token in enumerate(tokens):\n",
    "        # 在MLM任务中，特殊词元（如'<cls>'和'<sep>'）不参与预测，因此跳过\n",
    "        if token in ['<cls>', '<sep>']:\n",
    "            continue\n",
    "        # 将非特殊词元的位置添加到候选列表，供后续随机遮蔽\n",
    "        candidate_pred_positions.append(i)\n",
    "    \n",
    "    # 计算需要遮蔽的词元数量：通常为词元总数的15%，但至少遮蔽1个\n",
    "    # max(1, ...) 确保当序列过短时（如长度为0），仍有至少1个词元被遮蔽\n",
    "    num_mlm_preds = max(1, round(len(tokens) * 0.15))\n",
    "    \n",
    "    # 调用_replace_mlm_tokens函数生成遮蔽后的词元列表和对应的标签信息\n",
    "    # mlm_input_tokens: 遮蔽或替换后的词元列表（包含'<mask>'或随机词元）\n",
    "    # pred_positions_and_labels: 包含元组的列表，每个元组为 (遮蔽位置, 原始词元)\n",
    "    mlm_input_tokens, pred_positions_and_labels = _replace_mlm_tokens(\n",
    "        tokens, candidate_pred_positions, num_mlm_preds, vocab)\n",
    "    \n",
    "    # 按遮蔽位置从小到大排序，确保后续处理时位置顺序一致\n",
    "    # 例如，若遮蔽位置为[3, 1]，排序后变为[1, 3]\n",
    "    pred_positions_and_labels = sorted(pred_positions_and_labels,\n",
    "                                       key=lambda x: x[0])\n",
    "    \n",
    "    # 从排序后的结果中提取遮蔽位置和对应的原始词元\n",
    "    # pred_positions: 存储被遮蔽词元在原始tokens中的索引\n",
    "    # mlm_pred_labels: 存储被遮蔽词元的原始值（字符串形式）\n",
    "    pred_positions = [v[0] for v in pred_positions_and_labels]\n",
    "    mlm_pred_labels = [v[1] for v in pred_positions_and_labels]\n",
    "    \n",
    "    # 将遮蔽后的词元列表和标签词元转换为词汇表索引\n",
    "    # vocab[mlm_input_tokens] 将词元列表（如[\"<mask>\", \"world\"]）转换为对应的索引列表\n",
    "    # vocab[mlm_pred_labels] 将原始词元标签（如[\"hello\"]）转换为索引\n",
    "    return vocab[mlm_input_tokens], pred_positions, vocab[mlm_pred_labels]"
   ]
  },
  {
   "cell_type": "code",
   "execution_count": 35,
   "id": "91535eaf-2b19-49eb-b0af-e1c25863fa1f",
   "metadata": {},
   "outputs": [],
   "source": [
    "def _get_mlm_data_from_tokens(tokens, vocab):\n",
    "    \"\"\"\n",
    "    从词元列表中生成BERT掩蔽语言模型（MLM）任务的训练数据。\n",
    "    \n",
    "    参数:\n",
    "    tokens (list): 原始词元列表，例如 [\"hello\", \"world\", \".\"]。\n",
    "    vocab (Vocab): 词汇表，用于将词元转换为索引。\n",
    "    \n",
    "    返回:\n",
    "    tuple: 包含三个元素：\n",
    "        - mlm_input_ids (list): 遮蔽或替换后的词元索引列表，用于模型输入。\n",
    "        - pred_positions (list): 被遮蔽词元的位置列表。\n",
    "        - mlm_labels (list): 被遮蔽词元的原始索引标签列表。\n",
    "    \"\"\"\n",
    "    # 初始化一个空列表，用于存储可被遮蔽的候选位置\n",
    "    candidate_pred_positions = []\n",
    "    # 遍历每个词元及其索引，筛选出非特殊词元的位置\n",
    "    for i, token in enumerate(tokens):\n",
    "        # 在MLM任务中，特殊词元（如'<cls>'和'<sep>'）不参与预测，因此跳过\n",
    "        if token in ['<cls>', '<sep>']:\n",
    "            continue\n",
    "        # 将非特殊词元的位置添加到候选列表，供后续随机遮蔽\n",
    "        candidate_pred_positions.append(i)\n",
    "    \n",
    "    # 计算需要遮蔽的词元数量：通常为词元总数的15%，但至少遮蔽1个\n",
    "    # max(1, ...) 确保当序列过短时（如长度为0），仍有至少1个词元被遮蔽\n",
    "    num_mlm_preds = max(1, round(len(tokens) * 0.15))\n",
    "    \n",
    "    # 调用_replace_mlm_tokens函数生成遮蔽后的词元列表和对应的标签信息\n",
    "    # mlm_input_tokens: 遮蔽或替换后的词元列表（包含'<mask>'或随机词元）\n",
    "    # pred_positions_and_labels: 包含元组的列表，每个元组为 (遮蔽位置, 原始词元)\n",
    "    mlm_input_tokens, pred_positions_and_labels = _replace_mlm_tokens(\n",
    "        tokens, candidate_pred_positions, num_mlm_preds, vocab)\n",
    "    \n",
    "    # 按遮蔽位置从小到大排序，确保后续处理时位置顺序一致\n",
    "    # 例如，若遮蔽位置为[3, 1]，排序后变为[1, 3]\n",
    "    pred_positions_and_labels = sorted(pred_positions_and_labels,\n",
    "                                       key=lambda x: x[0])\n",
    "    \n",
    "    # 从排序后的结果中提取遮蔽位置和对应的原始词元\n",
    "    # pred_positions: 存储被遮蔽词元在原始tokens中的索引\n",
    "    # mlm_pred_labels: 存储被遮蔽词元的原始值（字符串形式）\n",
    "    pred_positions = [v[0] for v in pred_positions_and_labels]\n",
    "    mlm_pred_labels = [v[1] for v in pred_positions_and_labels]\n",
    "    \n",
    "    # 将遮蔽后的词元列表和标签词元转换为词汇表索引\n",
    "    # vocab[mlm_input_tokens] 将词元列表（如[\"<mask>\", \"world\"]）转换为对应的索引列表\n",
    "    # vocab[mlm_pred_labels] 将原始词元标签（如[\"hello\"]）转换为索引\n",
    "    return vocab[mlm_input_tokens], pred_positions, vocab[mlm_pred_labels]"
   ]
  },
  {
   "cell_type": "code",
   "execution_count": 37,
   "id": "cd6b0a47-3bbc-4cea-81a7-61c7ccd9d5aa",
   "metadata": {},
   "outputs": [],
   "source": [
    "import torch\n",
    "import d2l\n",
    "\n",
    "class _WikiTextDataset(torch.utils.data.Dataset):\n",
    "    def __init__(self, paragraphs, max_len):\n",
    "        \"\"\"\n",
    "        初始化WikiText数据集类，用于为BERT模型准备训练数据。\n",
    "\n",
    "        参数:\n",
    "        paragraphs (list): 包含多个段落的列表，每个段落是一个句子字符串列表。\n",
    "        max_len (int): 输入序列的最大长度，用于填充和截断数据。\n",
    "        \"\"\"\n",
    "        # 对每个段落中的句子进行分词处理，将句子字符串转换为词元列表\n",
    "        # 输入的paragraphs[i]是句子字符串列表，处理后paragraphs[i]变为句子词元列表\n",
    "        paragraphs = [d2l.tokenize(\n",
    "            paragraph, token='word') for paragraph in paragraphs]\n",
    "        # 将所有段落中的句子合并为一个大的句子列表\n",
    "        sentences = [sentence for paragraph in paragraphs\n",
    "                     for sentence in paragraph]\n",
    "        # 根据合并后的句子列表构建词汇表\n",
    "        # min_freq=5表示只保留出现频率至少为5的词元\n",
    "        # reserved_tokens指定了保留的特殊词元，这些词元在后续任务中有特殊用途\n",
    "        self.vocab = d2l.Vocab(sentences, min_freq=5, reserved_tokens=[\n",
    "            '<pad>', '<mask>', '<cls>', '<sep>'])\n",
    "        # 初始化一个空列表，用于存储下一句子预测（NSP）任务的数据样本\n",
    "        examples = []\n",
    "        # 遍历每个段落，为每个段落生成NSP任务的数据样本\n",
    "        # _get_nsp_data_from_paragraph函数会返回一个包含多个样本的列表\n",
    "        # 每个样本是一个三元组 (tokens, segments, is_next)\n",
    "        for paragraph in paragraphs:\n",
    "            examples.extend(_get_nsp_data_from_paragraph(\n",
    "                paragraph, paragraphs, self.vocab, max_len))\n",
    "        # 对每个样本进行处理，获取遮蔽语言模型（MLM）任务的数据\n",
    "        # _get_mlm_data_from_tokens函数会返回一个三元组 (mlm_input_ids, pred_positions, mlm_labels)\n",
    "        # 将MLM任务的数据与原有的NSP任务数据中的segments和is_next合并\n",
    "        examples = [(_get_mlm_data_from_tokens(tokens, self.vocab)\n",
    "                      + (segments, is_next))\n",
    "                     for tokens, segments, is_next in examples]\n",
    "        # 对所有样本进行填充处理，使输入数据的长度统一\n",
    "        # _pad_bert_inputs函数会返回多个列表，分别存储填充后的不同类型的数据\n",
    "        (self.all_token_ids, self.all_segments, self.valid_lens,\n",
    "         self.all_pred_positions, self.all_mlm_weights,\n",
    "         self.all_mlm_labels, self.nsp_labels) = _pad_bert_inputs(\n",
    "            examples, max_len, self.vocab)\n",
    "\n",
    "    def __getitem__(self, idx):\n",
    "        \"\"\"\n",
    "        根据索引获取数据集中的一个样本。\n",
    "\n",
    "        参数:\n",
    "        idx (int): 样本的索引。\n",
    "\n",
    "        返回:\n",
    "        tuple: 包含多个张量的元组，分别是填充后的词元索引、片段索引、有效长度、\n",
    "               遮蔽位置、遮蔽位置权重、MLM标签和NSP标签。\n",
    "        \"\"\"\n",
    "        return (self.all_token_ids[idx], self.all_segments[idx],\n",
    "                self.valid_lens[idx], self.all_pred_positions[idx],\n",
    "                self.all_mlm_weights[idx], self.all_mlm_labels[idx],\n",
    "                self.nsp_labels[idx])\n",
    "\n",
    "    def __len__(self):\n",
    "        \"\"\"\n",
    "        获取数据集的样本数量。\n",
    "\n",
    "        返回:\n",
    "        int: 数据集的样本数量，即填充后的词元索引列表的长度。\n",
    "        \"\"\"\n",
    "        return len(self.all_token_ids)"
   ]
  },
  {
   "cell_type": "code",
   "execution_count": 39,
   "id": "71f165d2-4d16-4961-8ef6-bbe8f380c631",
   "metadata": {},
   "outputs": [],
   "source": [
    "def load_data_wiki(batch_size, max_len):\n",
    "    \"\"\"加载WikiText-2数据集\"\"\"\n",
    "    num_workers = d2l.get_dataloader_workers()\n",
    "    data_dir = d2l.download_extract('wikitext-2', 'wikitext-2')\n",
    "    paragraphs = _read_wiki(data_dir)\n",
    "    train_set = _WikiTextDataset(paragraphs, max_len)\n",
    "    train_iter = torch.utils.data.DataLoader(train_set, batch_size,\n",
    "                                        shuffle=True, num_workers=num_workers)\n",
    "    return train_iter, train_set.vocab"
   ]
  },
  {
   "cell_type": "code",
   "execution_count": null,
   "id": "368db74f-8506-4039-a1aa-bb885a353956",
   "metadata": {},
   "outputs": [],
   "source": [
    "batch_size, max_len = 512, 64\n",
    "train_iter, vocab = load_data_wiki(batch_size, max_len)\n",
    "\n",
    "for (tokens_X, segments_X, valid_lens_x, pred_positions_X, mlm_weights_X,\n",
    "     mlm_Y, nsp_y) in train_iter:\n",
    "    print(tokens_X.shape, segments_X.shape, valid_lens_x.shape,\n",
    "          pred_positions_X.shape, mlm_weights_X.shape, mlm_Y.shape,\n",
    "          nsp_y.shape)\n",
    "    break"
   ]
  },
  {
   "cell_type": "code",
   "execution_count": null,
   "id": "9976fc86-a086-4029-9ec0-aeaba3d11592",
   "metadata": {},
   "outputs": [],
   "source": [
    "len(vocab)"
   ]
  },
  {
   "cell_type": "markdown",
   "id": "7dabef7c-d356-4e9e-91e1-231b33358535",
   "metadata": {},
   "source": [
    "# 预训练BERT"
   ]
  },
  {
   "cell_type": "code",
   "execution_count": 11,
   "id": "74fc389a-e4c4-48c2-9fb2-1a87ed1a7a93",
   "metadata": {},
   "outputs": [],
   "source": [
    "import torch\n",
    "import os\n",
    "from torch import nn\n",
    "from d2l import torch as d2l"
   ]
  },
  {
   "cell_type": "code",
   "execution_count": 45,
   "id": "01c8c6a0-582b-4b09-bee0-2abc08ed3c88",
   "metadata": {},
   "outputs": [],
   "source": [
    "batch_size, max_len = 512, 64\n",
    "train_iter, vocab = load_data_wiki(batch_size, max_len)"
   ]
  },
  {
   "cell_type": "code",
   "execution_count": 68,
   "id": "22116e00-a451-48c1-8fc9-1e499ea3a740",
   "metadata": {},
   "outputs": [],
   "source": [
    "import torch\n",
    "import torch.nn as nn\n",
    "\n",
    "# 假设 BERTEncoder、MaskLM、NextSentencePred 类已经定义\n",
    "class BERTModel(nn.Module):\n",
    "    \"\"\"BERT模型\"\"\"\n",
    "    def __init__(self, vocab_size, num_hiddens, norm_shape, ffn_num_input,\n",
    "                 ffn_num_hiddens, num_heads, num_layers, dropout,\n",
    "                 max_len=1000, key_size=768, query_size=768, value_size=768,\n",
    "                 hid_in_features=768, mlm_in_features=768,\n",
    "                 nsp_in_features=768):\n",
    "        super(BERTModel, self).__init__()\n",
    "        self.encoder = BERTEncoder(vocab_size, num_hiddens, norm_shape,\n",
    "                    ffn_num_input, ffn_num_hiddens, num_heads, num_layers,\n",
    "                    dropout, max_len=max_len, key_size=key_size,\n",
    "                    query_size=query_size, value_size=value_size)\n",
    "        self.hidden = nn.Sequential(nn.Linear(hid_in_features, num_hiddens),\n",
    "                                    nn.Tanh())\n",
    "        self.mlm = MaskLM(vocab_size, num_hiddens, mlm_in_features)\n",
    "        self.nsp = NextSentencePred(nsp_in_features)\n",
    "\n",
    "    def forward(self, tokens, segments, valid_lens=None,\n",
    "                pred_positions=None):\n",
    "        encoded_X = self.encoder(tokens, segments, valid_lens)\n",
    "        if pred_positions is not None:\n",
    "            mlm_Y_hat = self.mlm(encoded_X, pred_positions)\n",
    "        else:\n",
    "            mlm_Y_hat = None\n",
    "        # 用于下一句预测的多层感知机分类器的隐藏层，0是“<cls>”标记的索引\n",
    "        nsp_Y_hat = self.nsp(self.hidden(encoded_X[:, 0, :]))\n",
    "        return encoded_X, mlm_Y_hat, nsp_Y_hat\n",
    "\n",
    "# 假设 vocab 已经定义\n",
    "net = BERTModel(len(vocab), num_hiddens=128, norm_shape=[128],\n",
    "                ffn_num_input=128, ffn_num_hiddens=256, num_heads=2,\n",
    "                num_layers=2, dropout=0.2, key_size=128, query_size=128,\n",
    "                value_size=128, hid_in_features=128, mlm_in_features=128,\n",
    "                nsp_in_features=128)\n",
    "\n",
    "# 假设 d2l 工具包已经正确导入\n",
    "devices = d2l.try_all_gpus()\n",
    "loss = nn.CrossEntropyLoss()"
   ]
  },
  {
   "cell_type": "code",
   "execution_count": 70,
   "id": "71e8de11-bfba-4aed-ace0-0dbf06178778",
   "metadata": {},
   "outputs": [],
   "source": [
    "def _get_batch_loss_bert(net, loss, vocab_size, tokens_X,\n",
    "                         segments_X, valid_lens_x,\n",
    "                         pred_positions_X, mlm_weights_X,\n",
    "                         mlm_Y, nsp_y):\n",
    "    # 前向传播\n",
    "    _, mlm_Y_hat, nsp_Y_hat = net(tokens_X, segments_X,\n",
    "                                  valid_lens_x.reshape(-1),\n",
    "                                  pred_positions_X)\n",
    "    # 计算遮蔽语言模型损失\n",
    "    mlm_l = loss(mlm_Y_hat.reshape(-1, vocab_size), mlm_Y.reshape(-1)) *\\\n",
    "    mlm_weights_X.reshape(-1, 1)\n",
    "    mlm_l = mlm_l.sum() / (mlm_weights_X.sum() + 1e-8)\n",
    "    # 计算下一句子预测任务的损失\n",
    "    nsp_l = loss(nsp_Y_hat, nsp_y)\n",
    "    l = mlm_l + nsp_l\n",
    "    return mlm_l, nsp_l, l"
   ]
  },
  {
   "cell_type": "code",
   "execution_count": 82,
   "id": "cbe2bd76-2b5b-479e-85bd-67f30c6d986d",
   "metadata": {},
   "outputs": [],
   "source": [
    "def train_bert(train_iter, net, loss, vocab_size, devices, num_steps):\n",
    "    if len(devices) > 0:\n",
    "        # 如果有可用的 GPU 设备\n",
    "        net = nn.DataParallel(net, device_ids=devices).to(devices[0])\n",
    "    else:\n",
    "        # 如果没有可用的 GPU 设备，使用 CPU\n",
    "        print(\"No GPU devices found. Using CPU for training.\")\n",
    "        net = net.to('cpu')\n",
    "    #net = nn.DataParallel(net, device_ids=devices).to(devices[0])\n",
    "    trainer = torch.optim.Adam(net.parameters(), lr=0.01)\n",
    "    step, timer = 0, d2l.Timer()\n",
    "    animator = d2l.Animator(xlabel='step', ylabel='loss',\n",
    "                            xlim=[1, num_steps], legend=['mlm', 'nsp'])\n",
    "    # 遮蔽语言模型损失的和，下一句预测任务损失的和，句子对的数量，计数\n",
    "    metric = d2l.Accumulator(4)\n",
    "    num_steps_reached = False\n",
    "    while step < num_steps and not num_steps_reached:\n",
    "        for tokens_X, segments_X, valid_lens_x, pred_positions_X,\\\n",
    "            mlm_weights_X, mlm_Y, nsp_y in train_iter:\n",
    "            tokens_X = tokens_X.to(devices[0])\n",
    "            segments_X = segments_X.to(devices[0])\n",
    "            valid_lens_x = valid_lens_x.to(devices[0])\n",
    "            pred_positions_X = pred_positions_X.to(devices[0])\n",
    "            mlm_weights_X = mlm_weights_X.to(devices[0])\n",
    "            mlm_Y, nsp_y = mlm_Y.to(devices[0]), nsp_y.to(devices[0])\n",
    "            trainer.zero_grad()\n",
    "            timer.start()\n",
    "            mlm_l, nsp_l, l = _get_batch_loss_bert(\n",
    "                net, loss, vocab_size, tokens_X, segments_X, valid_lens_x,\n",
    "                pred_positions_X, mlm_weights_X, mlm_Y, nsp_y)\n",
    "            l.backward()\n",
    "            trainer.step()\n",
    "            metric.add(mlm_l, nsp_l, tokens_X.shape[0], 1)\n",
    "            timer.stop()\n",
    "            animator.add(step + 1,\n",
    "                         (metric[0] / metric[3], metric[1] / metric[3]))\n",
    "            step += 1\n",
    "            if step == num_steps:\n",
    "                num_steps_reached = True\n",
    "                break\n",
    "\n",
    "    print(f'MLM loss {metric[0] / metric[3]:.3f}, '\n",
    "          f'NSP loss {metric[1] / metric[3]:.3f}')\n",
    "    print(f'{metric[2] / timer.sum():.1f} sentence pairs/sec on '\n",
    "          f'{str(devices)}')"
   ]
  },
  {
   "cell_type": "code",
   "execution_count": null,
   "id": "b07a8eb2-98e0-46b7-9223-43b89b759828",
   "metadata": {},
   "outputs": [
    {
     "name": "stdout",
     "output_type": "stream",
     "text": [
      "No GPU devices found. Using CPU for training.\n"
     ]
    }
   ],
   "source": [
    "train_bert(train_iter, net, loss, len(vocab), devices, 50)"
   ]
  },
  {
   "cell_type": "code",
   "execution_count": 76,
   "id": "6afffcb5-9640-41b5-bf21-1931a4a0577e",
   "metadata": {},
   "outputs": [],
   "source": [
    "def get_bert_encoding(net, tokens_a, tokens_b=None):\n",
    "    tokens, segments = d2l.get_tokens_and_segments(tokens_a, tokens_b)\n",
    "    token_ids = torch.tensor(vocab[tokens], device=devices[0]).unsqueeze(0)\n",
    "    segments = torch.tensor(segments, device=devices[0]).unsqueeze(0)\n",
    "    valid_len = torch.tensor(len(tokens), device=devices[0]).unsqueeze(0)\n",
    "    encoded_X, _, _ = net(token_ids, segments, valid_len)\n",
    "    return encoded_X"
   ]
  },
  {
   "cell_type": "code",
   "execution_count": null,
   "id": "366a8517-0f13-4efe-af68-1d32579c1efc",
   "metadata": {},
   "outputs": [],
   "source": [
    "tokens_a = ['a', 'crane', 'is', 'flying']\n",
    "encoded_text = get_bert_encoding(net, tokens_a)\n",
    "# 词元：'<cls>','a','crane','is','flying','<sep>'\n",
    "encoded_text_cls = encoded_text[:, 0, :]\n",
    "encoded_text_crane = encoded_text[:, 2, :]\n",
    "encoded_text.shape, encoded_text_cls.shape, encoded_text_crane[0][:3]"
   ]
  },
  {
   "cell_type": "code",
   "execution_count": null,
   "id": "4ddfef85-6335-449f-825f-dd89f5677d77",
   "metadata": {},
   "outputs": [],
   "source": [
    "tokens_a, tokens_b = ['a', 'crane', 'driver', 'came'], ['he', 'just', 'left']\n",
    "encoded_pair = get_bert_encoding(net, tokens_a, tokens_b)\n",
    "# 词元：'<cls>','a','crane','driver','came','<sep>','he','just',\n",
    "# 'left','<sep>'\n",
    "encoded_pair_cls = encoded_pair[:, 0, :]\n",
    "encoded_pair_crane = encoded_pair[:, 2, :]\n",
    "encoded_pair.shape, encoded_pair_cls.shape, encoded_pair_crane[0][:3]"
   ]
  },
  {
   "cell_type": "code",
   "execution_count": null,
   "id": "5a396233-d7fb-476a-b7a4-af41edc788cd",
   "metadata": {},
   "outputs": [],
   "source": []
  }
 ],
 "metadata": {
  "kernelspec": {
   "display_name": "Python 3 (ipykernel)",
   "language": "python",
   "name": "python3"
  },
  "language_info": {
   "codemirror_mode": {
    "name": "ipython",
    "version": 3
   },
   "file_extension": ".py",
   "mimetype": "text/x-python",
   "name": "python",
   "nbconvert_exporter": "python",
   "pygments_lexer": "ipython3",
   "version": "3.11.11"
  }
 },
 "nbformat": 4,
 "nbformat_minor": 5
}
