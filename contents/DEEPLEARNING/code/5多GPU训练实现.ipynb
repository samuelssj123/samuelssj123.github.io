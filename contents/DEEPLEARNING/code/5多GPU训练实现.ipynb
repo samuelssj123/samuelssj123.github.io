{
 "cells": [
  {
   "cell_type": "markdown",
   "id": "aa95c256-b44f-4477-80eb-06bcd6da0ba4",
   "metadata": {},
   "source": [
    "# 多GPU训练\n",
    "\n",
    "一般来说，$k$个GPU并行训练过程如下：\n",
    "\n",
    "* 在任何一次训练迭代中，给定的随机的小批量样本都将被分成$k$个部分，并均匀地分配到GPU上；\n",
    "* 每个GPU根据分配给它的小批量子集，计算模型参数的损失和梯度；\n",
    "* 将$k$个GPU中的局部梯度聚合，以获得当前小批量的随机梯度；\n",
    "* 聚合梯度被重新分发到每个GPU中；\n",
    "* 每个GPU使用这个小批量随机梯度，来更新它所维护的完整的模型参数集。"
   ]
  },
  {
   "cell_type": "code",
   "execution_count": 3,
   "id": "5e01a0b2-febb-471a-b102-951743c86a8e",
   "metadata": {},
   "outputs": [],
   "source": [
    "%matplotlib inline\n",
    "import torch\n",
    "from torch import nn\n",
    "from torch.nn import functional as F\n",
    "from d2l import torch as d2l"
   ]
  },
  {
   "cell_type": "markdown",
   "id": "b1614fc4-f97e-411f-9b37-7bade6a24400",
   "metadata": {},
   "source": [
    "## [**简单网络**]"
   ]
  },
  {
   "cell_type": "code",
   "execution_count": 6,
   "id": "261b1244-2562-4b93-9e93-1b9bd2b1b1ab",
   "metadata": {},
   "outputs": [],
   "source": [
    "# 初始化模型参数\n",
    "scale = 0.01\n",
    "W1 = torch.randn(size=(20, 1, 3, 3)) * scale\n",
    "b1 = torch.zeros(20)\n",
    "W2 = torch.randn(size=(50, 20, 5, 5)) * scale\n",
    "b2 = torch.zeros(50)\n",
    "W3 = torch.randn(size=(800, 128)) * scale\n",
    "b3 = torch.zeros(128)\n",
    "W4 = torch.randn(size=(128, 10)) * scale\n",
    "b4 = torch.zeros(10)\n",
    "params = [W1, b1, W2, b2, W3, b3, W4, b4]\n",
    "\n",
    "# 定义模型\n",
    "def lenet(X, params):\n",
    "    h1_conv = F.conv2d(input=X, weight=params[0], bias=params[1])\n",
    "    h1_activation = F.relu(h1_conv)\n",
    "    h1 = F.avg_pool2d(input=h1_activation, kernel_size=(2, 2), stride=(2, 2))\n",
    "    h2_conv = F.conv2d(input=h1, weight=params[2], bias=params[3])\n",
    "    h2_activation = F.relu(h2_conv)\n",
    "    h2 = F.avg_pool2d(input=h2_activation, kernel_size=(2, 2), stride=(2, 2))\n",
    "    h2 = h2.reshape(h2.shape[0], -1)\n",
    "    h3_linear = torch.mm(h2, params[4]) + params[5]\n",
    "    h3 = F.relu(h3_linear)\n",
    "    y_hat = torch.mm(h3, params[6]) + params[7]\n",
    "    return y_hat\n",
    "\n",
    "# 交叉熵损失函数\n",
    "loss = nn.CrossEntropyLoss(reduction='none')"
   ]
  },
  {
   "cell_type": "markdown",
   "id": "e22c3bb4-2d8d-4cf1-bf27-506aef199b85",
   "metadata": {},
   "source": [
    "## 数据同步"
   ]
  },
  {
   "cell_type": "code",
   "execution_count": 15,
   "id": "b9601f0d-d513-485e-9a1c-e665ee1cf45f",
   "metadata": {},
   "outputs": [
    {
     "name": "stdout",
     "output_type": "stream",
     "text": [
      "bl weight: tensor([0., 0., 0., 0., 0., 0., 0., 0., 0., 0., 0., 0., 0., 0., 0., 0., 0., 0., 0., 0.],\n",
      "       requires_grad=True)\n",
      "bl grad: None\n"
     ]
    }
   ],
   "source": [
    "# 给到参数，知道分发去哪个GPU上\n",
    "def get_params(params, device):\n",
    "    new_params = [p.clone().to(device) for p in params]\n",
    "    for p in new_params:\n",
    "        p.requires_grad_() #做梯度\n",
    "    return new_params\n",
    "\n",
    "new_params = get_params(params, d2l.try_gpu(0))\n",
    "print('bl weight:', new_params[1])\n",
    "print('bl grad:', new_params[1].grad)"
   ]
  },
  {
   "cell_type": "markdown",
   "id": "156b8d2a-9319-47e7-8e2a-0379813f8f6f",
   "metadata": {},
   "source": [
    "`allreduce`函数将所有向量相加，并将结果广播给所有GPU.相加必须在同一个GPU上，然后再返回去。"
   ]
  },
  {
   "cell_type": "code",
   "execution_count": 18,
   "id": "a45ebe5f-917f-4224-a88c-f155a332b119",
   "metadata": {},
   "outputs": [
    {
     "name": "stdout",
     "output_type": "stream",
     "text": [
      "allreduce之前：\n",
      " tensor([[1., 1.]]) \n",
      " tensor([[2., 2.]])\n",
      "allreduce之后：\n",
      " tensor([[3., 3.]]) \n",
      " tensor([[3., 3.]])\n"
     ]
    }
   ],
   "source": [
    "# 定义 allreduce 函数，用于在多个 GPU 设备之间进行数据的聚合和广播操作\n",
    "def allreduce(data):\n",
    "    # 第一步：将所有设备上的数据累加到第一个设备上\n",
    "    for i in range(1, len(data)):\n",
    "        # 将 data[i] 移动到 data[0] 所在的设备上，并累加到 data[0] 中\n",
    "        data[0][:] += data[i].to(data[0].device)\n",
    "    # 第二步：将第一个设备上累加后的数据广播到其他所有设备上\n",
    "    for i in range(1, len(data)):\n",
    "        # 将 data[0] 移动到 data[i] 所在的设备上，并赋值给 data[i]\n",
    "        data[i][:] = data[0].to(data[i].device)\n",
    "\n",
    "# 创建一个包含两个张量的列表 data，每个张量在不同的 GPU 设备上，且值分别为 1 和 2\n",
    "data = [torch.ones((1, 2), device = d2l.try_gpu(i)) * (i + 1) for i in range(2)]\n",
    "# 打印 allreduce 操作之前的数据\n",
    "print('allreduce之前：\\n', data[0], '\\n', data[1])\n",
    "# 调用 allreduce 函数进行数据的聚合和广播操作\n",
    "allreduce(data)\n",
    "# 打印 allreduce 操作之后的数据\n",
    "print('allreduce之后：\\n', data[0], '\\n', data[1])"
   ]
  },
  {
   "cell_type": "markdown",
   "id": "0c7ce975-9206-41ea-8544-3a794194393d",
   "metadata": {},
   "source": [
    "## 数据分发"
   ]
  },
  {
   "cell_type": "code",
   "execution_count": null,
   "id": "e989a7b7-3e6c-46f0-a538-49d6d2ae0244",
   "metadata": {},
   "outputs": [],
   "source": [
    "data = torch.arange(20).reshape(4, 5)\n",
    "devices = [torch.device('cuda:0'), torch.device('cuda:1')]\n",
    "split = nn.parallel.scatter(data, devices)\n",
    "print('input :', data)\n",
    "print('load into', devices)\n",
    "print('output:', split)"
   ]
  },
  {
   "cell_type": "code",
   "execution_count": 24,
   "id": "e5cba34c-204e-4809-8ded-8a8eaa130a47",
   "metadata": {},
   "outputs": [],
   "source": [
    "def split_batch(X, y, devices):\n",
    "    \"\"\"将X和y拆分到多个设备上\"\"\"\n",
    "    assert X.shape[0] == y.shape[0]\n",
    "    return (nn.parallel.scatter(X, devices),\n",
    "            nn.parallel.scatter(y, devices))"
   ]
  },
  {
   "cell_type": "markdown",
   "id": "75b72beb-2f8c-4eaa-8322-18f6ea05f8a7",
   "metadata": {},
   "source": [
    "## 训练"
   ]
  },
  {
   "cell_type": "code",
   "execution_count": 27,
   "id": "867872bb-b192-4687-b1c3-e272a3f1056c",
   "metadata": {},
   "outputs": [],
   "source": [
    "# 在一个小批量上实现多 GPU 训练的函数\n",
    "def train_batch(X, y, device_params, devices, lr):\n",
    "    # 将输入数据 X 和标签 y 分割到不同的 GPU 设备上\n",
    "    X_shards, y_shards = split_batch(X, y, devices)\n",
    "    # 在每个 GPU 上分别计算损失\n",
    "    ls = [loss(lenet(X_shard, device_W), y_shard).sum()\n",
    "          for X_shard, y_shard, device_W in zip(\n",
    "              X_shards, y_shards, device_params)]\n",
    "    # 反向传播在每个 GPU 上分别执行\n",
    "    for l in ls:\n",
    "        l.backward()\n",
    "    # 将每个 GPU 的所有梯度相加，并将其广播到所有 GPU\n",
    "    with torch.no_grad():\n",
    "        # 遍历每个模型参数\n",
    "        for i in range(len(device_params[0])):\n",
    "            # 收集所有 GPU 上对应参数的梯度\n",
    "            allreduce(\n",
    "                [device_params[c][i].grad for c in range(len(devices))])\n",
    "    # 在每个 GPU 上分别更新模型参数\n",
    "    for param in device_params:\n",
    "        # 使用随机梯度下降法更新参数，这里使用全尺寸的小批量\n",
    "        d2l.sgd(param, lr, X.shape[0]) "
   ]
  },
  {
   "cell_type": "markdown",
   "id": "350dbfc9-6817-449f-8273-d98ac6e16e50",
   "metadata": {},
   "source": [
    "[**定义训练函数**]。\n",
    "与前几章中略有不同：训练函数需要分配GPU并将所有模型参数复制到所有设备。\n",
    "显然，每个小批量都是使用`train_batch`函数来处理多个GPU。\n",
    "我们只在一个GPU上计算模型的精确度，而让其他GPU保持空闲，尽管这是相对低效的，但是使用方便且代码简洁。"
   ]
  },
  {
   "cell_type": "code",
   "execution_count": 30,
   "id": "e04a80e2-e459-4b5d-af07-20a2dea426f7",
   "metadata": {},
   "outputs": [],
   "source": [
    "# 训练函数，用于在多个 GPU 上训练模型\n",
    "def train(num_gpus, batch_size, lr):\n",
    "    # 加载 Fashion-MNIST 数据集的训练集和测试集\n",
    "    train_iter, test_iter = d2l.load_data_fashion_mnist(batch_size)\n",
    "    # 获取指定数量的可用 GPU 设备\n",
    "    devices = [d2l.try_gpu(i) for i in range(num_gpus)]\n",
    "    # 将模型参数复制到 num_gpus 个 GPU 上\n",
    "    device_params = [get_params(params, d) for d in devices]\n",
    "    # 训练的总轮数\n",
    "    num_epochs = 10\n",
    "    # 创建一个动画对象，用于可视化测试准确率的变化\n",
    "    animator = d2l.Animator('epoch', 'test acc', xlim=[1, num_epochs])\n",
    "    # 创建一个计时器对象，用于记录训练时间\n",
    "    timer = d2l.Timer()\n",
    "    # 开始训练循环\n",
    "    for epoch in range(num_epochs):\n",
    "        # 开始计时\n",
    "        timer.start()\n",
    "        # 遍历训练集的每个小批量\n",
    "        for X, y in train_iter:\n",
    "            # 为单个小批量执行多 GPU 训练\n",
    "            train_batch(X, y, device_params, devices, lr)\n",
    "            # 同步所有 GPU 设备，确保所有操作完成\n",
    "            torch.cuda.synchronize()\n",
    "        # 停止计时\n",
    "        timer.stop()\n",
    "        # 在 GPU0 上评估模型\n",
    "        animator.add(epoch + 1, (d2l.evaluate_accuracy_gpu(\n",
    "            lambda x: lenet(x, device_params[0]), test_iter, devices[0]),))\n",
    "    # 打印测试精度、每轮训练的平均时间和使用的 GPU 设备\n",
    "    print(f'测试精度：{animator.Y[0][-1]:.2f}，{timer.avg():.1f}秒/轮，'\n",
    "          f'在{str(devices)}')"
   ]
  },
  {
   "cell_type": "code",
   "execution_count": null,
   "id": "835dc255-55e7-4dfd-92fa-9b2a92eeae74",
   "metadata": {},
   "outputs": [],
   "source": [
    "train(num_gpus=1, batch_size=256, lr=0.2)"
   ]
  },
  {
   "cell_type": "code",
   "execution_count": null,
   "id": "fb993924-9a6a-43a1-bd01-7aa5ed69d3e6",
   "metadata": {},
   "outputs": [],
   "source": [
    "train(num_gpus=2, batch_size=256, lr=0.2)"
   ]
  },
  {
   "cell_type": "markdown",
   "id": "0465047e-a58e-4dd6-b1ba-cafbd6c816a0",
   "metadata": {},
   "source": [
    "# 简洁实现"
   ]
  },
  {
   "cell_type": "code",
   "execution_count": 36,
   "id": "64f419fe-4543-42cb-8669-4bdc57675fa3",
   "metadata": {},
   "outputs": [],
   "source": [
    "def resnet18(num_classes, in_channels=1):\n",
    "    \"\"\"稍加修改的ResNet-18模型\"\"\"\n",
    "    def resnet_block(in_channels, out_channels, num_residuals,\n",
    "                     first_block=False):\n",
    "        blk = []\n",
    "        for i in range(num_residuals):\n",
    "            if i == 0 and not first_block:\n",
    "                blk.append(d2l.Residual(in_channels, out_channels,\n",
    "                                        use_1x1conv=True, strides=2))\n",
    "            else:\n",
    "                blk.append(d2l.Residual(out_channels, out_channels))\n",
    "        return nn.Sequential(*blk)\n",
    "\n",
    "    # 该模型使用了更小的卷积核、步长和填充，而且删除了最大汇聚层\n",
    "    net = nn.Sequential(\n",
    "        nn.Conv2d(in_channels, 64, kernel_size=3, stride=1, padding=1),\n",
    "        nn.BatchNorm2d(64),\n",
    "        nn.ReLU())\n",
    "    net.add_module(\"resnet_block1\", resnet_block(\n",
    "        64, 64, 2, first_block=True))\n",
    "    net.add_module(\"resnet_block2\", resnet_block(64, 128, 2))\n",
    "    net.add_module(\"resnet_block3\", resnet_block(128, 256, 2))\n",
    "    net.add_module(\"resnet_block4\", resnet_block(256, 512, 2))\n",
    "    net.add_module(\"global_avg_pool\", nn.AdaptiveAvgPool2d((1,1)))\n",
    "    net.add_module(\"fc\", nn.Sequential(nn.Flatten(),\n",
    "                                       nn.Linear(512, num_classes)))\n",
    "    return net"
   ]
  },
  {
   "cell_type": "code",
   "execution_count": null,
   "id": "72ed06e2-3176-4373-84e9-da188ac8449e",
   "metadata": {},
   "outputs": [],
   "source": [
    "net = resnet18(10)\n",
    "# 获取GPU列表\n",
    "devices = d2l.try_all_gpus()\n",
    "# 我们将在训练代码实现中初始化网络"
   ]
  },
  {
   "cell_type": "markdown",
   "id": "adc93552-079b-42c4-8bb5-5182d8957f4f",
   "metadata": {},
   "source": [
    "## [**训练**]\n",
    "\n",
    "如前所述，用于训练的代码需要执行几个基本功能才能实现高效并行：\n",
    "\n",
    "* 需要在所有设备上初始化网络参数；\n",
    "* 在数据集上迭代时，要将小批量数据分配到所有设备上；\n",
    "* 跨设备并行计算损失及其梯度；\n",
    "* 聚合梯度，并相应地更新参数。"
   ]
  },
  {
   "cell_type": "code",
   "execution_count": 45,
   "id": "fb9d783a-1295-4f44-ace4-88848d7dc009",
   "metadata": {},
   "outputs": [],
   "source": [
    "# 定义训练函数，用于在多个 GPU 上训练指定的神经网络模型\n",
    "def train(net, num_gpus, batch_size, lr):\n",
    "    # 加载 Fashion-MNIST 数据集的训练集和测试集迭代器，batch_size 为每个小批量的数据样本数量\n",
    "    train_iter, test_iter = d2l.load_data_fashion_mnist(batch_size)\n",
    "    # 获取指定数量的可用 GPU 设备列表，这里 num_gpus 表示要使用的 GPU 数量\n",
    "    devices = [d2l.try_gpu(i) for i in range(num_gpus)]\n",
    "\n",
    "    # 定义一个初始化权重的函数，用于对网络中的线性层（nn.Linear）和卷积层（nn.Conv2d）进行权重初始化\n",
    "    def init_weights(m):\n",
    "        # 检查当前层是否为线性层或卷积层\n",
    "        if type(m) in [nn.Linear, nn.Conv2d]:\n",
    "            # 使用正态分布初始化该层的权重，标准差为 0.01\n",
    "            nn.init.normal_(m.weight, std=0.01)\n",
    "\n",
    "    # 对网络中的所有层应用权重初始化函数\n",
    "    net.apply(init_weights)\n",
    "\n",
    "    # 使用 PyTorch 的 nn.DataParallel 模块将模型并行化到多个 GPU 上\n",
    "    # device_ids 参数指定要使用的 GPU 设备列表\n",
    "    net = nn.DataParallel(net, device_ids=devices)\n",
    "\n",
    "    # 定义优化器，使用随机梯度下降（SGD）算法，对网络的所有参数进行优化，学习率为 lr\n",
    "    trainer = torch.optim.SGD(net.parameters(), lr)\n",
    "\n",
    "    # 定义损失函数，使用交叉熵损失，适用于多分类问题\n",
    "    loss = nn.CrossEntropyLoss()\n",
    "\n",
    "    # 创建一个计时器对象，用于记录训练时间\n",
    "    timer = d2l.Timer()\n",
    "    # 定义训练的总轮数\n",
    "    num_epochs = 10\n",
    "\n",
    "    # 创建一个动画对象，用于可视化测试准确率随训练轮数的变化\n",
    "    animator = d2l.Animator('epoch', 'test acc', xlim=[1, num_epochs])\n",
    "\n",
    "    # 开始训练循环，共进行 num_epochs 轮训练\n",
    "    for epoch in range(num_epochs):\n",
    "        # 将模型设置为训练模式，启用一些在训练时需要的特殊层，如 Dropout 等\n",
    "        net.train()\n",
    "        # 开始计时当前轮次的训练时间\n",
    "        timer.start()\n",
    "\n",
    "        # 遍历训练集的每个小批量数据\n",
    "        for X, y in train_iter:\n",
    "            # 清零优化器中的梯度信息，避免梯度累积\n",
    "            trainer.zero_grad()\n",
    "            # 将输入数据 X 和标签 y 移动到第一个 GPU 设备上\n",
    "            X, y = X.to(devices[0]), y.to(devices[0])\n",
    "            # 前向传播，计算模型的输出，并通过损失函数计算损失值\n",
    "            l = loss(net(X), y)\n",
    "            # 反向传播，计算梯度\n",
    "            l.backward()\n",
    "            # 根据计算得到的梯度，使用优化器更新模型的参数\n",
    "            trainer.step()\n",
    "\n",
    "        # 停止计时当前轮次的训练时间\n",
    "        timer.stop()\n",
    "        # 在测试集上评估模型的准确率，并将结果添加到动画对象中，用于后续可视化\n",
    "        animator.add(epoch + 1, (d2l.evaluate_accuracy_gpu(net, test_iter),))\n",
    "\n",
    "    # 打印最终的测试精度、每轮训练的平均时间以及使用的 GPU 设备列表\n",
    "    print(f'测试精度：{animator.Y[0][-1]:.2f}，{timer.avg():.1f}秒/轮，'\n",
    "          f'在{str(devices)}')"
   ]
  },
  {
   "cell_type": "code",
   "execution_count": null,
   "id": "c233d143-eaf0-4304-a8c2-6f5b88e790df",
   "metadata": {},
   "outputs": [],
   "source": [
    "train(net, num_gpus=1, batch_size=256, lr=0.1)"
   ]
  },
  {
   "cell_type": "code",
   "execution_count": null,
   "id": "c4940557-d3c9-471e-9d4a-ba3f1440bf98",
   "metadata": {},
   "outputs": [],
   "source": [
    "train(net, num_gpus=2, batch_size=512, lr=0.2)"
   ]
  }
 ],
 "metadata": {
  "kernelspec": {
   "display_name": "Python 3 (ipykernel)",
   "language": "python",
   "name": "python3"
  },
  "language_info": {
   "codemirror_mode": {
    "name": "ipython",
    "version": 3
   },
   "file_extension": ".py",
   "mimetype": "text/x-python",
   "name": "python",
   "nbconvert_exporter": "python",
   "pygments_lexer": "ipython3",
   "version": "3.11.11"
  }
 },
 "nbformat": 4,
 "nbformat_minor": 5
}
