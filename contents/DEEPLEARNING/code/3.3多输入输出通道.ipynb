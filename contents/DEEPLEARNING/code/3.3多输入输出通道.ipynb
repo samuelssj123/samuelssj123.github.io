{
 "cells": [
  {
   "cell_type": "markdown",
   "id": "60a91f2b-7b87-42c0-9e5e-9d3f2d8eb2c6",
   "metadata": {},
   "source": [
    "# 多输入输出通道"
   ]
  },
  {
   "cell_type": "code",
   "execution_count": 6,
   "id": "c0c2dce6-41df-4b3b-b9af-952e52a9d8fa",
   "metadata": {},
   "outputs": [],
   "source": [
    "import torch\n",
    "from d2l import torch as d2l"
   ]
  },
  {
   "cell_type": "markdown",
   "id": "525c4aca-6b24-482a-baa1-d750b985243f",
   "metadata": {},
   "source": [
    "## 多输入通道"
   ]
  },
  {
   "cell_type": "code",
   "execution_count": 12,
   "id": "9625ecdc-a8bc-4401-adc0-7235450564d8",
   "metadata": {},
   "outputs": [],
   "source": [
    "def corr2d_multi_in(X, K):\n",
    "    return sum(d2l.corr2d(x, k) for x, k in zip(X, K)) #先遍历“X”和“K”的第0个维度（通道维度），再把它们加在一起"
   ]
  },
  {
   "cell_type": "code",
   "execution_count": 6,
   "id": "0c0c2a9c-cdea-4628-80f1-f11d5ebf2f09",
   "metadata": {},
   "outputs": [
    {
     "data": {
      "text/plain": [
       "tensor([[ 56.,  72.],\n",
       "        [104., 120.]])"
      ]
     },
     "execution_count": 6,
     "metadata": {},
     "output_type": "execute_result"
    }
   ],
   "source": [
    "X = torch.tensor([[[0.0, 1.0, 2.0], [3.0, 4.0, 5.0], [6.0, 7.0, 8.0]],\n",
    "               [[1.0, 2.0, 3.0], [4.0, 5.0, 6.0], [7.0, 8.0, 9.0]]])\n",
    "K = torch.tensor([[[0.0, 1.0], [2.0, 3.0]], [[1.0, 2.0], [3.0, 4.0]]])\n",
    "\n",
    "corr2d_multi_in(X, K)"
   ]
  },
  {
   "cell_type": "markdown",
   "id": "7b41662f-f314-4702-8716-d146bbaa361c",
   "metadata": {},
   "source": [
    "## 多输出通道"
   ]
  },
  {
   "cell_type": "code",
   "execution_count": 16,
   "id": "bb313474-63e7-4120-88cd-c27b563af168",
   "metadata": {},
   "outputs": [],
   "source": [
    "def corr2d_multi_in_out(X, K):\n",
    "    return torch.stack([corr2d_multi_in(X, k) for k in K], 0)  #迭代“K”的第0个维度，每次都对输入“X”执行互相关运算。最后将所有结果都叠加在一起"
   ]
  },
  {
   "cell_type": "code",
   "execution_count": 12,
   "id": "74608ca1-7144-4643-a0bc-15fe4819370f",
   "metadata": {},
   "outputs": [
    {
     "data": {
      "text/plain": [
       "torch.Size([3, 2, 2, 2])"
      ]
     },
     "execution_count": 12,
     "metadata": {},
     "output_type": "execute_result"
    }
   ],
   "source": [
    "K = torch.stack((K, K + 1, K + 2), 0)\n",
    "K.shape"
   ]
  },
  {
   "cell_type": "code",
   "execution_count": 14,
   "id": "94b059dc-1c45-4902-b413-df31e7d0b5f5",
   "metadata": {},
   "outputs": [
    {
     "data": {
      "text/plain": [
       "tensor([[[ 56.,  72.],\n",
       "         [104., 120.]],\n",
       "\n",
       "        [[ 76., 100.],\n",
       "         [148., 172.]],\n",
       "\n",
       "        [[ 96., 128.],\n",
       "         [192., 224.]]])"
      ]
     },
     "execution_count": 14,
     "metadata": {},
     "output_type": "execute_result"
    }
   ],
   "source": [
    "corr2d_multi_in_out(X, K)"
   ]
  },
  {
   "cell_type": "markdown",
   "id": "568cc123-5abe-4291-bacf-a77daa9ddaf7",
   "metadata": {},
   "source": [
    "## $1\\times 1$ 卷积层\n",
    "\n",
    "类似于一个全连接层"
   ]
  },
  {
   "cell_type": "code",
   "execution_count": 8,
   "id": "677553b4-5a56-4137-ad40-8f7390f1dadf",
   "metadata": {},
   "outputs": [],
   "source": [
    "def corr2d_multi_in_out_1x1(X, K):\n",
    "    # 获取输入特征图 X 的形状，c_i 表示输入通道数，h 表示特征图的高度，w 表示特征图的宽度\n",
    "    c_i, h, w = X.shape\n",
    "    # 获取卷积核 K 的形状，c_o 表示输出通道数\n",
    "    c_o = K.shape[0]\n",
    "    # 将输入特征图 X 进行重塑，将每个通道的二维特征图展平为一维向量\n",
    "    # 最终形状为 (c_i, h * w)，即每个通道对应一个长度为 h * w 的向量\n",
    "    X = X.reshape((c_i, h * w))\n",
    "    # 将卷积核 K 进行重塑，将其转换为形状为 (c_o, c_i) 的矩阵\n",
    "    # 其中 c_o 是输出通道数，c_i 是输入通道数\n",
    "    K = K.reshape((c_o, c_i))\n",
    "    # 进行矩阵乘法，将卷积核矩阵 K 与展平后的输入特征图矩阵 X 相乘\n",
    "    # 得到的结果 Y 的形状为 (c_o, h * w)\n",
    "    Y = torch.matmul(K, X) # 全连接层中的矩阵乘法\n",
    "    # 将结果 Y 重塑为 (c_o, h, w) 的形状，即恢复为多通道的二维特征图\n",
    "    return Y.reshape((c_o, h, w))"
   ]
  },
  {
   "cell_type": "code",
   "execution_count": 18,
   "id": "f6a643ca-5c3d-4894-84cc-cebab094cefc",
   "metadata": {},
   "outputs": [],
   "source": [
    "X = torch.normal(0, 1, (3, 3, 3))\n",
    "K = torch.normal(0, 1, (2, 3, 1, 1))\n",
    "Y1 = corr2d_multi_in_out_1x1(X, K)\n",
    "Y2 = corr2d_multi_in_out(X, K)\n",
    "assert float(torch.abs(Y1 - Y2).sum()) < 1e-6"
   ]
  },
  {
   "cell_type": "code",
   "execution_count": null,
   "id": "faf80686-ed9a-4212-ad7b-6e14af30a3d2",
   "metadata": {},
   "outputs": [],
   "source": []
  }
 ],
 "metadata": {
  "kernelspec": {
   "display_name": "Python 3 (ipykernel)",
   "language": "python",
   "name": "python3"
  },
  "language_info": {
   "codemirror_mode": {
    "name": "ipython",
    "version": 3
   },
   "file_extension": ".py",
   "mimetype": "text/x-python",
   "name": "python",
   "nbconvert_exporter": "python",
   "pygments_lexer": "ipython3",
   "version": "3.11.11"
  }
 },
 "nbformat": 4,
 "nbformat_minor": 5
}
